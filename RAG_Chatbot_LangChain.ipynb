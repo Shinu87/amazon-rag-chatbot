{
  "cells": [
    {
      "cell_type": "markdown",
      "metadata": {
        "id": "dqGpT-CvcGsP"
      },
      "source": [
        "# 🔍 RAG-Based Chatbot using LangChain, FAISS, and Groq\n",
        "This notebook builds a Retrieval-Augmented Generation (RAG) chatbot that answers questions based on Amazon product reviews using LangChain and a Groq-hosted LLM."
      ],
      "id": "dqGpT-CvcGsP"
    },
    {
      "cell_type": "code",
      "execution_count": 1,
      "metadata": {
        "colab": {
          "base_uri": "https://localhost:8080/"
        },
        "id": "JuLLOcYacGsT",
        "outputId": "0572ec2f-94fb-4e12-e004-29b87307ac24"
      },
      "outputs": [
        {
          "output_type": "stream",
          "name": "stdout",
          "text": [
            "\u001b[2K   \u001b[90m━━━━━━━━━━━━━━━━━━━━━━━━━━━━━━━━━━━━━━━━\u001b[0m \u001b[32m31.3/31.3 MB\u001b[0m \u001b[31m19.9 MB/s\u001b[0m eta \u001b[36m0:00:00\u001b[0m\n",
            "\u001b[2K   \u001b[90m━━━━━━━━━━━━━━━━━━━━━━━━━━━━━━━━━━━━━━━━\u001b[0m \u001b[32m2.5/2.5 MB\u001b[0m \u001b[31m34.3 MB/s\u001b[0m eta \u001b[36m0:00:00\u001b[0m\n",
            "\u001b[2K   \u001b[90m━━━━━━━━━━━━━━━━━━━━━━━━━━━━━━━━━━━━━━━━\u001b[0m \u001b[32m129.4/129.4 kB\u001b[0m \u001b[31m6.3 MB/s\u001b[0m eta \u001b[36m0:00:00\u001b[0m\n",
            "\u001b[2K   \u001b[90m━━━━━━━━━━━━━━━━━━━━━━━━━━━━━━━━━━━━━━━━\u001b[0m \u001b[32m44.4/44.4 kB\u001b[0m \u001b[31m2.6 MB/s\u001b[0m eta \u001b[36m0:00:00\u001b[0m\n",
            "\u001b[2K   \u001b[90m━━━━━━━━━━━━━━━━━━━━━━━━━━━━━━━━━━━━━━━━\u001b[0m \u001b[32m363.4/363.4 MB\u001b[0m \u001b[31m1.7 MB/s\u001b[0m eta \u001b[36m0:00:00\u001b[0m\n",
            "\u001b[2K   \u001b[90m━━━━━━━━━━━━━━━━━━━━━━━━━━━━━━━━━━━━━━━━\u001b[0m \u001b[32m13.8/13.8 MB\u001b[0m \u001b[31m131.3 MB/s\u001b[0m eta \u001b[36m0:00:00\u001b[0m\n",
            "\u001b[2K   \u001b[90m━━━━━━━━━━━━━━━━━━━━━━━━━━━━━━━━━━━━━━━━\u001b[0m \u001b[32m24.6/24.6 MB\u001b[0m \u001b[31m92.6 MB/s\u001b[0m eta \u001b[36m0:00:00\u001b[0m\n",
            "\u001b[2K   \u001b[90m━━━━━━━━━━━━━━━━━━━━━━━━━━━━━━━━━━━━━━━━\u001b[0m \u001b[32m883.7/883.7 kB\u001b[0m \u001b[31m58.5 MB/s\u001b[0m eta \u001b[36m0:00:00\u001b[0m\n",
            "\u001b[2K   \u001b[90m━━━━━━━━━━━━━━━━━━━━━━━━━━━━━━━━━━━━━━━━\u001b[0m \u001b[32m664.8/664.8 MB\u001b[0m \u001b[31m1.3 MB/s\u001b[0m eta \u001b[36m0:00:00\u001b[0m\n",
            "\u001b[2K   \u001b[90m━━━━━━━━━━━━━━━━━━━━━━━━━━━━━━━━━━━━━━━━\u001b[0m \u001b[32m211.5/211.5 MB\u001b[0m \u001b[31m6.0 MB/s\u001b[0m eta \u001b[36m0:00:00\u001b[0m\n",
            "\u001b[2K   \u001b[90m━━━━━━━━━━━━━━━━━━━━━━━━━━━━━━━━━━━━━━━━\u001b[0m \u001b[32m56.3/56.3 MB\u001b[0m \u001b[31m13.2 MB/s\u001b[0m eta \u001b[36m0:00:00\u001b[0m\n",
            "\u001b[2K   \u001b[90m━━━━━━━━━━━━━━━━━━━━━━━━━━━━━━━━━━━━━━━━\u001b[0m \u001b[32m127.9/127.9 MB\u001b[0m \u001b[31m7.5 MB/s\u001b[0m eta \u001b[36m0:00:00\u001b[0m\n",
            "\u001b[2K   \u001b[90m━━━━━━━━━━━━━━━━━━━━━━━━━━━━━━━━━━━━━━━━\u001b[0m \u001b[32m207.5/207.5 MB\u001b[0m \u001b[31m5.5 MB/s\u001b[0m eta \u001b[36m0:00:00\u001b[0m\n",
            "\u001b[2K   \u001b[90m━━━━━━━━━━━━━━━━━━━━━━━━━━━━━━━━━━━━━━━━\u001b[0m \u001b[32m21.1/21.1 MB\u001b[0m \u001b[31m105.9 MB/s\u001b[0m eta \u001b[36m0:00:00\u001b[0m\n",
            "\u001b[2K   \u001b[90m━━━━━━━━━━━━━━━━━━━━━━━━━━━━━━━━━━━━━━━━\u001b[0m \u001b[32m50.9/50.9 kB\u001b[0m \u001b[31m4.8 MB/s\u001b[0m eta \u001b[36m0:00:00\u001b[0m\n",
            "\u001b[?25h"
          ]
        }
      ],
      "source": [
        "!pip install -q kaggle faiss-cpu sentence-transformers pandas langchain langchain-community langchain-groq"
      ],
      "id": "JuLLOcYacGsT"
    },
    {
      "cell_type": "markdown",
      "metadata": {
        "id": "Cl0GkjIKcGsU"
      },
      "source": [
        "## 🔑 Upload Kaggle API Key"
      ],
      "id": "Cl0GkjIKcGsU"
    },
    {
      "cell_type": "code",
      "execution_count": 2,
      "metadata": {
        "colab": {
          "base_uri": "https://localhost:8080/",
          "height": 90
        },
        "id": "lzQF2nZ5cGsV",
        "outputId": "d5518ef7-257d-451c-8da4-3b1e69e06e08"
      },
      "outputs": [
        {
          "output_type": "display_data",
          "data": {
            "text/plain": [
              "<IPython.core.display.HTML object>"
            ],
            "text/html": [
              "\n",
              "     <input type=\"file\" id=\"files-ad8d3b14-7b21-41ef-a1e8-01f007d95ab4\" name=\"files[]\" multiple disabled\n",
              "        style=\"border:none\" />\n",
              "     <output id=\"result-ad8d3b14-7b21-41ef-a1e8-01f007d95ab4\">\n",
              "      Upload widget is only available when the cell has been executed in the\n",
              "      current browser session. Please rerun this cell to enable.\n",
              "      </output>\n",
              "      <script>// Copyright 2017 Google LLC\n",
              "//\n",
              "// Licensed under the Apache License, Version 2.0 (the \"License\");\n",
              "// you may not use this file except in compliance with the License.\n",
              "// You may obtain a copy of the License at\n",
              "//\n",
              "//      http://www.apache.org/licenses/LICENSE-2.0\n",
              "//\n",
              "// Unless required by applicable law or agreed to in writing, software\n",
              "// distributed under the License is distributed on an \"AS IS\" BASIS,\n",
              "// WITHOUT WARRANTIES OR CONDITIONS OF ANY KIND, either express or implied.\n",
              "// See the License for the specific language governing permissions and\n",
              "// limitations under the License.\n",
              "\n",
              "/**\n",
              " * @fileoverview Helpers for google.colab Python module.\n",
              " */\n",
              "(function(scope) {\n",
              "function span(text, styleAttributes = {}) {\n",
              "  const element = document.createElement('span');\n",
              "  element.textContent = text;\n",
              "  for (const key of Object.keys(styleAttributes)) {\n",
              "    element.style[key] = styleAttributes[key];\n",
              "  }\n",
              "  return element;\n",
              "}\n",
              "\n",
              "// Max number of bytes which will be uploaded at a time.\n",
              "const MAX_PAYLOAD_SIZE = 100 * 1024;\n",
              "\n",
              "function _uploadFiles(inputId, outputId) {\n",
              "  const steps = uploadFilesStep(inputId, outputId);\n",
              "  const outputElement = document.getElementById(outputId);\n",
              "  // Cache steps on the outputElement to make it available for the next call\n",
              "  // to uploadFilesContinue from Python.\n",
              "  outputElement.steps = steps;\n",
              "\n",
              "  return _uploadFilesContinue(outputId);\n",
              "}\n",
              "\n",
              "// This is roughly an async generator (not supported in the browser yet),\n",
              "// where there are multiple asynchronous steps and the Python side is going\n",
              "// to poll for completion of each step.\n",
              "// This uses a Promise to block the python side on completion of each step,\n",
              "// then passes the result of the previous step as the input to the next step.\n",
              "function _uploadFilesContinue(outputId) {\n",
              "  const outputElement = document.getElementById(outputId);\n",
              "  const steps = outputElement.steps;\n",
              "\n",
              "  const next = steps.next(outputElement.lastPromiseValue);\n",
              "  return Promise.resolve(next.value.promise).then((value) => {\n",
              "    // Cache the last promise value to make it available to the next\n",
              "    // step of the generator.\n",
              "    outputElement.lastPromiseValue = value;\n",
              "    return next.value.response;\n",
              "  });\n",
              "}\n",
              "\n",
              "/**\n",
              " * Generator function which is called between each async step of the upload\n",
              " * process.\n",
              " * @param {string} inputId Element ID of the input file picker element.\n",
              " * @param {string} outputId Element ID of the output display.\n",
              " * @return {!Iterable<!Object>} Iterable of next steps.\n",
              " */\n",
              "function* uploadFilesStep(inputId, outputId) {\n",
              "  const inputElement = document.getElementById(inputId);\n",
              "  inputElement.disabled = false;\n",
              "\n",
              "  const outputElement = document.getElementById(outputId);\n",
              "  outputElement.innerHTML = '';\n",
              "\n",
              "  const pickedPromise = new Promise((resolve) => {\n",
              "    inputElement.addEventListener('change', (e) => {\n",
              "      resolve(e.target.files);\n",
              "    });\n",
              "  });\n",
              "\n",
              "  const cancel = document.createElement('button');\n",
              "  inputElement.parentElement.appendChild(cancel);\n",
              "  cancel.textContent = 'Cancel upload';\n",
              "  const cancelPromise = new Promise((resolve) => {\n",
              "    cancel.onclick = () => {\n",
              "      resolve(null);\n",
              "    };\n",
              "  });\n",
              "\n",
              "  // Wait for the user to pick the files.\n",
              "  const files = yield {\n",
              "    promise: Promise.race([pickedPromise, cancelPromise]),\n",
              "    response: {\n",
              "      action: 'starting',\n",
              "    }\n",
              "  };\n",
              "\n",
              "  cancel.remove();\n",
              "\n",
              "  // Disable the input element since further picks are not allowed.\n",
              "  inputElement.disabled = true;\n",
              "\n",
              "  if (!files) {\n",
              "    return {\n",
              "      response: {\n",
              "        action: 'complete',\n",
              "      }\n",
              "    };\n",
              "  }\n",
              "\n",
              "  for (const file of files) {\n",
              "    const li = document.createElement('li');\n",
              "    li.append(span(file.name, {fontWeight: 'bold'}));\n",
              "    li.append(span(\n",
              "        `(${file.type || 'n/a'}) - ${file.size} bytes, ` +\n",
              "        `last modified: ${\n",
              "            file.lastModifiedDate ? file.lastModifiedDate.toLocaleDateString() :\n",
              "                                    'n/a'} - `));\n",
              "    const percent = span('0% done');\n",
              "    li.appendChild(percent);\n",
              "\n",
              "    outputElement.appendChild(li);\n",
              "\n",
              "    const fileDataPromise = new Promise((resolve) => {\n",
              "      const reader = new FileReader();\n",
              "      reader.onload = (e) => {\n",
              "        resolve(e.target.result);\n",
              "      };\n",
              "      reader.readAsArrayBuffer(file);\n",
              "    });\n",
              "    // Wait for the data to be ready.\n",
              "    let fileData = yield {\n",
              "      promise: fileDataPromise,\n",
              "      response: {\n",
              "        action: 'continue',\n",
              "      }\n",
              "    };\n",
              "\n",
              "    // Use a chunked sending to avoid message size limits. See b/62115660.\n",
              "    let position = 0;\n",
              "    do {\n",
              "      const length = Math.min(fileData.byteLength - position, MAX_PAYLOAD_SIZE);\n",
              "      const chunk = new Uint8Array(fileData, position, length);\n",
              "      position += length;\n",
              "\n",
              "      const base64 = btoa(String.fromCharCode.apply(null, chunk));\n",
              "      yield {\n",
              "        response: {\n",
              "          action: 'append',\n",
              "          file: file.name,\n",
              "          data: base64,\n",
              "        },\n",
              "      };\n",
              "\n",
              "      let percentDone = fileData.byteLength === 0 ?\n",
              "          100 :\n",
              "          Math.round((position / fileData.byteLength) * 100);\n",
              "      percent.textContent = `${percentDone}% done`;\n",
              "\n",
              "    } while (position < fileData.byteLength);\n",
              "  }\n",
              "\n",
              "  // All done.\n",
              "  yield {\n",
              "    response: {\n",
              "      action: 'complete',\n",
              "    }\n",
              "  };\n",
              "}\n",
              "\n",
              "scope.google = scope.google || {};\n",
              "scope.google.colab = scope.google.colab || {};\n",
              "scope.google.colab._files = {\n",
              "  _uploadFiles,\n",
              "  _uploadFilesContinue,\n",
              "};\n",
              "})(self);\n",
              "</script> "
            ]
          },
          "metadata": {}
        },
        {
          "output_type": "stream",
          "name": "stdout",
          "text": [
            "Saving kaggle.json to kaggle.json\n"
          ]
        },
        {
          "output_type": "execute_result",
          "data": {
            "text/plain": [
              "{'kaggle.json': b'{\"username\":\"shrinivasmore\",\"key\":\"08451b3b14201cc268968fa407b3ce10\"}'}"
            ]
          },
          "metadata": {},
          "execution_count": 2
        }
      ],
      "source": [
        "from google.colab import files\n",
        "files.upload()  # Upload kaggle.json"
      ],
      "id": "lzQF2nZ5cGsV"
    },
    {
      "cell_type": "markdown",
      "metadata": {
        "id": "TvzYmVDRcGsV"
      },
      "source": [
        "## 🔐 Setup Kaggle Credentials"
      ],
      "id": "TvzYmVDRcGsV"
    },
    {
      "cell_type": "code",
      "execution_count": 3,
      "metadata": {
        "id": "kW94__2qcGsV"
      },
      "outputs": [],
      "source": [
        "!mkdir -p ~/.kaggle\n",
        "!cp kaggle.json ~/.kaggle/\n",
        "!chmod 600 ~/.kaggle/kaggle.json"
      ],
      "id": "kW94__2qcGsV"
    },
    {
      "cell_type": "markdown",
      "metadata": {
        "id": "esdPrrsTcGsW"
      },
      "source": [
        "## 📥 Download and Extract Dataset"
      ],
      "id": "esdPrrsTcGsW"
    },
    {
      "cell_type": "code",
      "execution_count": 4,
      "metadata": {
        "colab": {
          "base_uri": "https://localhost:8080/"
        },
        "id": "4rzmqyoPcGsW",
        "outputId": "063f3bac-c2fc-4843-b2a0-54e6de7f610e"
      },
      "outputs": [
        {
          "output_type": "stream",
          "name": "stdout",
          "text": [
            "Dataset URL: https://www.kaggle.com/datasets/datafiniti/consumer-reviews-of-amazon-products\n",
            "License(s): CC-BY-NC-SA-4.0\n",
            "Downloading consumer-reviews-of-amazon-products.zip to /content\n",
            "  0% 0.00/16.3M [00:00<?, ?B/s]\n",
            "100% 16.3M/16.3M [00:00<00:00, 1.04GB/s]\n"
          ]
        }
      ],
      "source": [
        "!kaggle datasets download -d datafiniti/consumer-reviews-of-amazon-products\n",
        "!unzip -q consumer-reviews-of-amazon-products.zip"
      ],
      "id": "4rzmqyoPcGsW"
    },
    {
      "cell_type": "markdown",
      "metadata": {
        "id": "4G27agPzcGsW"
      },
      "source": [
        "## 📊 Load and Preprocess the Dataset"
      ],
      "id": "4G27agPzcGsW"
    },
    {
      "cell_type": "code",
      "execution_count": 5,
      "metadata": {
        "colab": {
          "base_uri": "https://localhost:8080/"
        },
        "id": "7Fd2Vcc5cGsX",
        "outputId": "2bc4b777-115b-49d5-9aec-db612187f1c6"
      },
      "outputs": [
        {
          "output_type": "execute_result",
          "data": {
            "text/plain": [
              "['AmazonBasics AAA Performance Alkaline Batteries (36 Count): I order 3 of them and one of the item is bad quality. Is missing backup spring so I have to put a pcs of aluminum to make the battery work.',\n",
              " 'AmazonBasics AAA Performance Alkaline Batteries (36 Count): Bulk is always the less expensive way to go for products like these']"
            ]
          },
          "metadata": {},
          "execution_count": 5
        }
      ],
      "source": [
        "import pandas as pd\n",
        "\n",
        "df = pd.read_csv(\"Datafiniti_Amazon_Consumer_Reviews_of_Amazon_Products_May19.csv\")\n",
        "df = df[[\"name\", \"reviews.text\"]].dropna().reset_index(drop=True)\n",
        "df[\"content\"] = df[\"name\"] + \": \" + df[\"reviews.text\"]\n",
        "documents = df[\"content\"].tolist()\n",
        "documents[:2]"
      ],
      "id": "7Fd2Vcc5cGsX"
    },
    {
      "cell_type": "markdown",
      "metadata": {
        "id": "urJrfpGpcGsX"
      },
      "source": [
        "## 🤖 Load Sentence Transformer and Build FAISS Index"
      ],
      "id": "urJrfpGpcGsX"
    },
    {
      "cell_type": "code",
      "execution_count": 12,
      "metadata": {
        "id": "O40YVZbCcGsY"
      },
      "outputs": [],
      "source": [
        "from sentence_transformers import SentenceTransformer\n",
        "import faiss\n",
        "import numpy as np\n",
        "\n",
        "model = SentenceTransformer(\"all-MiniLM-L6-v2\")\n",
        "embeddings = model.encode(documents, show_progress_bar=False)\n",
        "\n",
        "index = faiss.IndexFlatL2(embeddings.shape[1])\n",
        "index.add(np.array(embeddings))"
      ],
      "id": "O40YVZbCcGsY"
    },
    {
      "cell_type": "markdown",
      "metadata": {
        "id": "ZHhb9xwMcGsY"
      },
      "source": [
        "## 🔌 Setup LangChain and Groq API"
      ],
      "id": "ZHhb9xwMcGsY"
    },
    {
      "cell_type": "code",
      "execution_count": 13,
      "metadata": {
        "id": "ybpJL1OkcGsY"
      },
      "outputs": [],
      "source": [
        "from langchain_groq import ChatGroq\n",
        "from langchain.chains import RetrievalQA\n",
        "from langchain.vectorstores import FAISS\n",
        "from langchain.embeddings import HuggingFaceEmbeddings\n",
        "from langchain.docstore.document import Document\n",
        "import os\n",
        "\n",
        "os.environ[\"GROQ_API_KEY\"] = \"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\""
      ],
      "id": "ybpJL1OkcGsY"
    },
    {
      "cell_type": "markdown",
      "metadata": {
        "id": "Bj7SKa89cGsY"
      },
      "source": [
        "## 📚 Wrap Documents and Create Vector Store"
      ],
      "id": "Bj7SKa89cGsY"
    },
    {
      "cell_type": "code",
      "execution_count": 14,
      "metadata": {
        "id": "FYrXUbL1cGsZ"
      },
      "outputs": [],
      "source": [
        "wrapped_docs = [Document(page_content=d) for d in documents]\n",
        "\n",
        "embedding_model = HuggingFaceEmbeddings(model_name=\"all-MiniLM-L6-v2\")\n",
        "vectorstore = FAISS.from_documents(wrapped_docs, embedding_model)"
      ],
      "id": "FYrXUbL1cGsZ"
    },
    {
      "cell_type": "markdown",
      "metadata": {
        "id": "cZuA_zVqcGsZ"
      },
      "source": [
        "## 🧠 Load Groq LLM"
      ],
      "id": "cZuA_zVqcGsZ"
    },
    {
      "cell_type": "code",
      "execution_count": 15,
      "metadata": {
        "id": "M2lJ5hc5cGsZ"
      },
      "outputs": [],
      "source": [
        "llm = ChatGroq(\n",
        "    groq_api_key=os.environ[\"GROQ_API_KEY\"],\n",
        "    model_name=\"llama3-70b-8192\"\n",
        ")"
      ],
      "id": "M2lJ5hc5cGsZ"
    },
    {
      "cell_type": "markdown",
      "metadata": {
        "id": "eXzx3EHZcGsZ"
      },
      "source": [
        "## 🧵 Create Retrieval-Based QA Chain"
      ],
      "id": "eXzx3EHZcGsZ"
    },
    {
      "cell_type": "code",
      "execution_count": 16,
      "metadata": {
        "id": "7tovrWBrcGsZ"
      },
      "outputs": [],
      "source": [
        "qa_chain = RetrievalQA.from_chain_type(\n",
        "    llm=llm,\n",
        "    retriever=vectorstore.as_retriever(search_kwargs={\"k\": 5}),\n",
        "    return_source_documents=False\n",
        ")"
      ],
      "id": "7tovrWBrcGsZ"
    },
    {
      "cell_type": "markdown",
      "metadata": {
        "id": "T-UKoKtJcGsa"
      },
      "source": [
        "## ❓ Ask Questions and Save Answers"
      ],
      "id": "T-UKoKtJcGsa"
    },
    {
      "cell_type": "code",
      "execution_count": 17,
      "metadata": {
        "colab": {
          "base_uri": "https://localhost:8080/"
        },
        "id": "-5fY_Q4tcGsa",
        "outputId": "1f79888b-f285-4bc3-d073-21f0b8d65ba9"
      },
      "outputs": [
        {
          "output_type": "stream",
          "name": "stdout",
          "text": [
            "Q: What do users think about Kindle?\n",
            "A: Based on the provided context, users think very highly of the Kindle Voyage and Kindle Oasis e-readers. They praise the devices for being portable, having excellent displays that don't bother their eyes, allowing for font and size modifications, and having long battery life. They also appreciate the convenience of connecting to their Goodreads account and the seamless syncing of their e-books. Additionally, they find the devices to be completely user-friendly. Overall, users consider the Kindle e-readers to be the best on the market, with one user stating that the Kindle Voyage is the \"best e-reader out there\" and another stating that it is \"phenomenal\".\n",
            "\n",
            "Q: How is the battery life of Fire tablet?\n",
            "A: Based on the provided reviews, the battery life of Fire tablets seems to be a concern for many users. Some reviewers mentioned that the battery life does not live up to the estimated 7 hours, with some instances of the battery lasting around 1-4 hours. However, one reviewer mentioned that the battery life was great, lasting 4-5 days with only one charge.\n",
            "\n",
            "It's difficult to provide a definitive answer, as the battery life may vary depending on the specific model, usage, and other factors.\n",
            "\n",
            "Q: What are users saying about Echo Dot?\n",
            "A: According to the provided context, users are saying that the Echo Dot is great for various tasks such as setting alarms, timers, getting local weather, and more. However, they are not impressed with its music playback quality, which is inferior to the Amazon Echo. One user mentioned that they use it to listen to their local radio station, acknowledging that it's not that good.\n",
            "\n"
          ]
        }
      ],
      "source": [
        "questions = [\n",
        "    \"What do users think about Kindle?\",\n",
        "    \"How is the battery life of Fire tablet?\",\n",
        "    \"What are users saying about Echo Dot?\"\n",
        "]\n",
        "\n",
        "with open(\"chatbot_responses.txt\", \"w\") as f:\n",
        "    for q in questions:\n",
        "        answer = qa_chain.invoke({\"query\": q})[\"result\"]\n",
        "        print(f\"Q: {q}\\nA: {answer}\\n\")\n",
        "        f.write(f\"Q: {q}\\nA: {answer}\\n\\n\")"
      ],
      "id": "-5fY_Q4tcGsa"
    },
    {
      "cell_type": "code",
      "source": [],
      "metadata": {
        "id": "WKXf5vsHkqVt"
      },
      "id": "WKXf5vsHkqVt",
      "execution_count": null,
      "outputs": []
    }
  ],
  "metadata": {
    "kernelspec": {
      "display_name": "Python 3",
      "name": "python3"
    },
    "language_info": {
      "name": "python",
      "version": "3.x"
    },
    "colab": {
      "provenance": [],
      "gpuType": "T4"
    },
    "accelerator": "GPU"
  },
  "nbformat": 4,
  "nbformat_minor": 5
}